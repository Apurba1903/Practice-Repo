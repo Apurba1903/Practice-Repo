{
 "cells": [
  {
   "cell_type": "code",
   "execution_count": 124,
   "id": "e020c4c2",
   "metadata": {},
   "outputs": [],
   "source": [
    "import numpy as np\n",
    "import pandas as pd"
   ]
  },
  {
   "cell_type": "code",
   "execution_count": 125,
   "id": "38789b93",
   "metadata": {},
   "outputs": [],
   "source": [
    "x = np.array([10,13,21,22,31])"
   ]
  },
  {
   "cell_type": "code",
   "execution_count": 126,
   "id": "7db68a54",
   "metadata": {},
   "outputs": [
    {
     "data": {
      "text/plain": [
       "22"
      ]
     },
     "execution_count": 126,
     "metadata": {},
     "output_type": "execute_result"
    }
   ],
   "source": [
    "x[3]"
   ]
  },
  {
   "cell_type": "code",
   "execution_count": 127,
   "id": "6359b7eb",
   "metadata": {},
   "outputs": [],
   "source": [
    "a = np.array(54) # 0D\n",
    "\n",
    "b = np.array([10,13,21,22,31]) #1D\n",
    "\n",
    "c = np.array([[1,2,3,4],[5,6,7,8]]) #2D\n",
    "\n",
    "d = np.array([[[1,2,3,4],[5,6,7,8]],[[9,10,11,12],[13,14,15,16]]]) #3D"
   ]
  },
  {
   "cell_type": "code",
   "execution_count": 128,
   "id": "058412c7",
   "metadata": {},
   "outputs": [
    {
     "name": "stdout",
     "output_type": "stream",
     "text": [
      "0\n",
      "1\n",
      "2\n",
      "3\n"
     ]
    }
   ],
   "source": [
    "print(a.ndim)\n",
    "print(b.ndim)\n",
    "print(c.ndim)\n",
    "print(d.ndim)"
   ]
  },
  {
   "cell_type": "code",
   "execution_count": 129,
   "id": "79356281",
   "metadata": {},
   "outputs": [
    {
     "name": "stdout",
     "output_type": "stream",
     "text": [
      "Array Dimension:  0 D\n",
      "42\n",
      "-------------------------\n",
      "Array Dimension:  1 D\n",
      "[1 2 3 4 5]\n",
      "-------------------------\n",
      "Array Dimension:  2 D\n",
      "[[2 4 5 8]\n",
      " [3 1 5 7]\n",
      " [2 6 8 1]]\n",
      "-------------------------\n",
      "Array Dimension:  3 D\n",
      "[[[1 2 3]\n",
      "  [4 5 6]]\n",
      "\n",
      " [[1 2 3]\n",
      "  [4 5 6]]]\n",
      "-------------------------\n"
     ]
    }
   ],
   "source": [
    "a = np.array(42)\n",
    "print(\"Array Dimension: \", a.ndim ,\"D\")\n",
    "print(a)\n",
    "print(\"-------------------------\")\n",
    "\n",
    "\n",
    "b = np.array([1, 2, 3, 4, 5])\n",
    "print(\"Array Dimension: \", b.ndim ,\"D\")\n",
    "print(b)\n",
    "print(\"-------------------------\")\n",
    "\n",
    "\n",
    "c = np.array([[2,4,5,8], [3,1,5,7], [2,6,8,1]])\n",
    "print(\"Array Dimension: \", c.ndim ,\"D\")\n",
    "print(c)\n",
    "print(\"-------------------------\")\n",
    "\n",
    "\n",
    "d = np.array([[[1, 2, 3], [4, 5, 6]], [[1, 2, 3], [4, 5, 6]]])\n",
    "print(\"Array Dimension: \", d.ndim ,\"D\")\n",
    "print(d)\n",
    "print(\"-------------------------\")"
   ]
  },
  {
   "cell_type": "code",
   "execution_count": 130,
   "id": "c2dc7129",
   "metadata": {},
   "outputs": [
    {
     "data": {
      "text/plain": [
       "array([[2, 4, 5, 8],\n",
       "       [3, 1, 5, 7],\n",
       "       [2, 6, 8, 1]])"
      ]
     },
     "execution_count": 130,
     "metadata": {},
     "output_type": "execute_result"
    }
   ],
   "source": [
    "c"
   ]
  },
  {
   "cell_type": "code",
   "execution_count": 131,
   "id": "ef2ae161",
   "metadata": {},
   "outputs": [
    {
     "data": {
      "text/plain": [
       "array([[1, 5],\n",
       "       [6, 8]])"
      ]
     },
     "execution_count": 131,
     "metadata": {},
     "output_type": "execute_result"
    }
   ],
   "source": [
    "c[1:3,1:3]"
   ]
  },
  {
   "cell_type": "code",
   "execution_count": 132,
   "id": "0db98f43",
   "metadata": {},
   "outputs": [
    {
     "data": {
      "text/plain": [
       "52"
      ]
     },
     "execution_count": 132,
     "metadata": {},
     "output_type": "execute_result"
    }
   ],
   "source": [
    "c.sum()"
   ]
  },
  {
   "cell_type": "code",
   "execution_count": 133,
   "id": "c9f77577",
   "metadata": {},
   "outputs": [
    {
     "data": {
      "text/plain": [
       "array([19, 16, 17])"
      ]
     },
     "execution_count": 133,
     "metadata": {},
     "output_type": "execute_result"
    }
   ],
   "source": [
    "c.sum(axis=1)"
   ]
  },
  {
   "cell_type": "code",
   "execution_count": 134,
   "id": "ccc40add",
   "metadata": {},
   "outputs": [
    {
     "data": {
      "text/plain": [
       "array([[2, 4, 5, 8],\n",
       "       [3, 1, 5, 7],\n",
       "       [2, 6, 8, 1]])"
      ]
     },
     "execution_count": 134,
     "metadata": {},
     "output_type": "execute_result"
    }
   ],
   "source": [
    "c"
   ]
  },
  {
   "cell_type": "code",
   "execution_count": 135,
   "id": "1291e080",
   "metadata": {},
   "outputs": [
    {
     "data": {
      "text/plain": [
       "11"
      ]
     },
     "execution_count": 135,
     "metadata": {},
     "output_type": "execute_result"
    }
   ],
   "source": [
    "c[:,1].sum()"
   ]
  },
  {
   "cell_type": "code",
   "execution_count": 136,
   "id": "f7449b3f",
   "metadata": {},
   "outputs": [
    {
     "data": {
      "text/plain": [
       "20"
      ]
     },
     "execution_count": 136,
     "metadata": {},
     "output_type": "execute_result"
    }
   ],
   "source": [
    "np.sum(c[1:,1:3])"
   ]
  },
  {
   "cell_type": "code",
   "execution_count": 137,
   "id": "00cbca68",
   "metadata": {},
   "outputs": [
    {
     "data": {
      "text/plain": [
       "array([[2, 4, 5, 8],\n",
       "       [3, 1, 5, 7],\n",
       "       [2, 6, 8, 1]])"
      ]
     },
     "execution_count": 137,
     "metadata": {},
     "output_type": "execute_result"
    }
   ],
   "source": [
    "c"
   ]
  },
  {
   "cell_type": "code",
   "execution_count": 138,
   "id": "9294d8f1",
   "metadata": {},
   "outputs": [
    {
     "data": {
      "text/plain": [
       "4.5"
      ]
     },
     "execution_count": 138,
     "metadata": {},
     "output_type": "execute_result"
    }
   ],
   "source": [
    "np.median(c)"
   ]
  },
  {
   "cell_type": "code",
   "execution_count": 139,
   "id": "ccf984c5",
   "metadata": {},
   "outputs": [
    {
     "data": {
      "text/plain": [
       "2.4608038433722337"
      ]
     },
     "execution_count": 139,
     "metadata": {},
     "output_type": "execute_result"
    }
   ],
   "source": [
    "c.std()"
   ]
  },
  {
   "cell_type": "code",
   "execution_count": 140,
   "id": "629dac5b",
   "metadata": {},
   "outputs": [
    {
     "data": {
      "text/plain": [
       "52"
      ]
     },
     "execution_count": 140,
     "metadata": {},
     "output_type": "execute_result"
    }
   ],
   "source": [
    "c.sum()"
   ]
  },
  {
   "cell_type": "code",
   "execution_count": 141,
   "id": "869f8157",
   "metadata": {},
   "outputs": [
    {
     "data": {
      "text/plain": [
       "array([[ 0,  1,  2,  3],\n",
       "       [ 4,  5,  6,  7],\n",
       "       [ 8,  9, 10, 11]])"
      ]
     },
     "execution_count": 141,
     "metadata": {},
     "output_type": "execute_result"
    }
   ],
   "source": [
    "import random\n",
    "\n",
    "x = np.arange(12).reshape(3,4)\n",
    "x"
   ]
  },
  {
   "cell_type": "code",
   "execution_count": 164,
   "id": "e5eaa4c4",
   "metadata": {},
   "outputs": [
    {
     "data": {
      "text/plain": [
       "array([[20, 40, 36, 32],\n",
       "       [37, 36,  7, 28],\n",
       "       [13, 41, 46, 29]])"
      ]
     },
     "execution_count": 164,
     "metadata": {},
     "output_type": "execute_result"
    }
   ],
   "source": [
    "x = np.random.randint(1,50, size=(3,4))\n",
    "x"
   ]
  },
  {
   "cell_type": "code",
   "execution_count": 161,
   "id": "543c59a3",
   "metadata": {},
   "outputs": [
    {
     "data": {
      "text/plain": [
       "array([[37.0914081 , 59.25312531, 79.83703243, 75.80343287],\n",
       "       [ 9.35727881, 64.01854576, 59.58759901, 82.76714999],\n",
       "       [35.97826249, 22.05114446, 48.03200001,  6.38810899]])"
      ]
     },
     "execution_count": 161,
     "metadata": {},
     "output_type": "execute_result"
    }
   ],
   "source": [
    "x = np.random.rand(3,4)*100\n",
    "x"
   ]
  },
  {
   "cell_type": "code",
   "execution_count": 162,
   "id": "427cb95b",
   "metadata": {},
   "outputs": [
    {
     "data": {
      "text/plain": [
       "array([[79.80401233, 99.05680815, 87.37101753, 23.41673793],\n",
       "       [65.14741869, 48.7398353 , 63.12739191, 60.84943735],\n",
       "       [39.71682051, 51.40002532, 88.00809347, 51.09583637]])"
      ]
     },
     "execution_count": 162,
     "metadata": {},
     "output_type": "execute_result"
    }
   ],
   "source": [
    "y = np.random.random(12).reshape(3,4)*100\n",
    "y"
   ]
  },
  {
   "cell_type": "code",
   "execution_count": 163,
   "id": "418a871c",
   "metadata": {},
   "outputs": [
    {
     "data": {
      "text/plain": [
       "array([[2, 4, 5, 8],\n",
       "       [3, 1, 5, 7],\n",
       "       [2, 6, 8, 1]])"
      ]
     },
     "execution_count": 163,
     "metadata": {},
     "output_type": "execute_result"
    }
   ],
   "source": [
    "c"
   ]
  },
  {
   "cell_type": "code",
   "execution_count": 165,
   "id": "6c4bcaa8",
   "metadata": {},
   "outputs": [
    {
     "data": {
      "text/plain": [
       "array([[20, 40, 36, 32],\n",
       "       [37, 36,  7, 28],\n",
       "       [13, 41, 46, 29]])"
      ]
     },
     "execution_count": 165,
     "metadata": {},
     "output_type": "execute_result"
    }
   ],
   "source": [
    "x"
   ]
  },
  {
   "cell_type": "code",
   "execution_count": 166,
   "id": "2a486c3d",
   "metadata": {},
   "outputs": [
    {
     "data": {
      "text/plain": [
       "array([[22, 44, 41, 40],\n",
       "       [40, 37, 12, 35],\n",
       "       [15, 47, 54, 30]])"
      ]
     },
     "execution_count": 166,
     "metadata": {},
     "output_type": "execute_result"
    }
   ],
   "source": [
    "x + c"
   ]
  },
  {
   "cell_type": "code",
   "execution_count": 182,
   "id": "2351049e",
   "metadata": {},
   "outputs": [
    {
     "data": {
      "text/plain": [
       "array([[0, 1, 2, 3],\n",
       "       [4, 5, 6, 7],\n",
       "       [8, 9, 0, 1]])"
      ]
     },
     "execution_count": 182,
     "metadata": {},
     "output_type": "execute_result"
    }
   ],
   "source": [
    "m = np.arange(10)\n",
    "m = np.resize(m, (3, 4))\n",
    "m\n"
   ]
  },
  {
   "cell_type": "code",
   "execution_count": 183,
   "id": "93a123f3",
   "metadata": {},
   "outputs": [
    {
     "data": {
      "text/plain": [
       "array([[20, 40, 36, 32],\n",
       "       [37, 36,  7, 28],\n",
       "       [13, 41, 46, 29]])"
      ]
     },
     "execution_count": 183,
     "metadata": {},
     "output_type": "execute_result"
    }
   ],
   "source": [
    "x"
   ]
  },
  {
   "cell_type": "code",
   "execution_count": 184,
   "id": "ee98f6de",
   "metadata": {},
   "outputs": [
    {
     "data": {
      "text/plain": [
       "array([[0, 1, 2, 3],\n",
       "       [4, 5, 6, 7],\n",
       "       [8, 9, 0, 1]])"
      ]
     },
     "execution_count": 184,
     "metadata": {},
     "output_type": "execute_result"
    }
   ],
   "source": [
    "m"
   ]
  },
  {
   "cell_type": "code",
   "execution_count": 187,
   "id": "611dc925",
   "metadata": {},
   "outputs": [
    {
     "data": {
      "text/plain": [
       "array([[20, 40, 36, 32],\n",
       "       [37, 36,  7, 28],\n",
       "       [13, 41, 46, 29],\n",
       "       [ 0,  1,  2,  3],\n",
       "       [ 4,  5,  6,  7],\n",
       "       [ 8,  9,  0,  1]])"
      ]
     },
     "execution_count": 187,
     "metadata": {},
     "output_type": "execute_result"
    }
   ],
   "source": [
    "np.vstack((x,m))"
   ]
  },
  {
   "cell_type": "code",
   "execution_count": 188,
   "id": "25f1b4a6",
   "metadata": {},
   "outputs": [
    {
     "data": {
      "text/plain": [
       "array([[20, 40, 36, 32,  0,  1,  2,  3],\n",
       "       [37, 36,  7, 28,  4,  5,  6,  7],\n",
       "       [13, 41, 46, 29,  8,  9,  0,  1]])"
      ]
     },
     "execution_count": 188,
     "metadata": {},
     "output_type": "execute_result"
    }
   ],
   "source": [
    "np.hstack((x,m))"
   ]
  },
  {
   "cell_type": "code",
   "execution_count": null,
   "id": "0960c70f",
   "metadata": {},
   "outputs": [],
   "source": [
    "np.arange()"
   ]
  }
 ],
 "metadata": {
  "kernelspec": {
   "display_name": "base",
   "language": "python",
   "name": "python3"
  },
  "language_info": {
   "codemirror_mode": {
    "name": "ipython",
    "version": 3
   },
   "file_extension": ".py",
   "mimetype": "text/x-python",
   "name": "python",
   "nbconvert_exporter": "python",
   "pygments_lexer": "ipython3",
   "version": "3.12.7"
  }
 },
 "nbformat": 4,
 "nbformat_minor": 5
}
