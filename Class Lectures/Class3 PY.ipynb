{
 "cells": [
  {
   "cell_type": "code",
   "execution_count": 33,
   "id": "c9f6bdee",
   "metadata": {},
   "outputs": [
    {
     "name": "stdout",
     "output_type": "stream",
     "text": [
      "<class 'list'>\n"
     ]
    }
   ],
   "source": [
    "a = [10,20,30,40,50]\n",
    "print(type(a))"
   ]
  },
  {
   "cell_type": "code",
   "execution_count": 34,
   "id": "89336e6e",
   "metadata": {},
   "outputs": [
    {
     "data": {
      "text/plain": [
       "5"
      ]
     },
     "execution_count": 34,
     "metadata": {},
     "output_type": "execute_result"
    }
   ],
   "source": [
    "len(a)"
   ]
  },
  {
   "cell_type": "code",
   "execution_count": 35,
   "id": "1aace0ec",
   "metadata": {},
   "outputs": [
    {
     "name": "stdout",
     "output_type": "stream",
     "text": [
      "[5, 'banana', 'cherry', 'mango', 'orange', 5, 'banana', 'cherry', 'mango', 'orange', 5, 'banana', 'cherry', 'mango', 'orange']\n"
     ]
    }
   ],
   "source": [
    "list1 = [5, \"banana\", \"cherry\", \"mango\", \"orange\"]\n",
    "\n",
    "# print(list1 + [\"tomato\", 50])\n",
    "print(list1 * 3)\n",
    "# print(list1)"
   ]
  },
  {
   "cell_type": "code",
   "execution_count": 36,
   "id": "735bd98f",
   "metadata": {},
   "outputs": [
    {
     "name": "stdout",
     "output_type": "stream",
     "text": [
      "[25 10 15 20 25 30]\n"
     ]
    }
   ],
   "source": [
    "import numpy as np\n",
    "\n",
    "\n",
    "a = np.array([5,2,3,4,5,6])\n",
    "print(a * 5)"
   ]
  },
  {
   "cell_type": "code",
   "execution_count": 37,
   "id": "514da2ca",
   "metadata": {},
   "outputs": [
    {
     "name": "stdout",
     "output_type": "stream",
     "text": [
      "['tomato', 'banana', 'cherry', 'mango', 'orange']\n"
     ]
    }
   ],
   "source": [
    "list1 = [\"apple\", \"banana\", \"cherry\", \"mango\", \"orange\"]\n",
    "list1[0] = \"tomato\"\n",
    "print(list1)\n"
   ]
  },
  {
   "cell_type": "code",
   "execution_count": 38,
   "id": "a251f095",
   "metadata": {},
   "outputs": [
    {
     "data": {
      "text/plain": [
       "['tomato', 'banana', 'cherry', 'mango', 'orange', 'Apurba']"
      ]
     },
     "execution_count": 38,
     "metadata": {},
     "output_type": "execute_result"
    }
   ],
   "source": [
    "list1.append(\"Apurba\")\n",
    "list1"
   ]
  },
  {
   "cell_type": "code",
   "execution_count": 39,
   "id": "65587235",
   "metadata": {},
   "outputs": [
    {
     "name": "stdout",
     "output_type": "stream",
     "text": [
      "[]\n"
     ]
    }
   ],
   "source": [
    "fruits = ['apple', 'banana', 'cherry', 'orange']\n",
    "\n",
    "fruits.clear()\n",
    "print(fruits)"
   ]
  },
  {
   "cell_type": "code",
   "execution_count": 40,
   "id": "793f248c",
   "metadata": {},
   "outputs": [
    {
     "name": "stdout",
     "output_type": "stream",
     "text": [
      "2\n"
     ]
    }
   ],
   "source": [
    "fruits = [\"cherry\", \"apple\", \"banana\", \"cherry\"]\n",
    "\n",
    "x = fruits.count(\"cherry\")\n",
    "print(x)"
   ]
  },
  {
   "cell_type": "code",
   "execution_count": 41,
   "id": "3ca2f5bf",
   "metadata": {},
   "outputs": [
    {
     "name": "stdout",
     "output_type": "stream",
     "text": [
      "['apple', 'banana', 'cherry', 'Ford', 'BMW', 'Volvo']\n"
     ]
    }
   ],
   "source": [
    "fruits = ['apple', 'banana', 'cherry']\n",
    "cars = ['Ford', 'BMW', 'Volvo']\n",
    "\n",
    "fruits.extend(cars)\n",
    "print(fruits)"
   ]
  },
  {
   "cell_type": "code",
   "execution_count": 42,
   "id": "d039ac8e",
   "metadata": {},
   "outputs": [
    {
     "name": "stdout",
     "output_type": "stream",
     "text": [
      "['apple', 'banana', 'cherry', ['Ford', 'BMW', 'Volvo']]\n"
     ]
    }
   ],
   "source": [
    "fruits = ['apple', 'banana', 'cherry']\n",
    "cars = ['Ford', 'BMW', 'Volvo']\n",
    "\n",
    "fruits.append(cars)\n",
    "print(fruits)"
   ]
  },
  {
   "cell_type": "code",
   "execution_count": 43,
   "id": "ed0cd513",
   "metadata": {},
   "outputs": [
    {
     "name": "stdout",
     "output_type": "stream",
     "text": [
      "2\n"
     ]
    }
   ],
   "source": [
    "fruits = ['apple', 'banana', 'cherry']\n",
    "\n",
    "x = fruits.index(\"cherry\")\n",
    "print(x)"
   ]
  },
  {
   "cell_type": "code",
   "execution_count": 44,
   "id": "b10d8226",
   "metadata": {},
   "outputs": [
    {
     "name": "stdout",
     "output_type": "stream",
     "text": [
      "['apple', 'orange', 'banana', 'cherry']\n"
     ]
    }
   ],
   "source": [
    "fruits = ['apple', 'banana', 'cherry']\n",
    "\n",
    "fruits.insert(1, \"orange\")\n",
    "print(fruits)"
   ]
  },
  {
   "cell_type": "code",
   "execution_count": 45,
   "id": "5f29ca62",
   "metadata": {},
   "outputs": [
    {
     "name": "stdout",
     "output_type": "stream",
     "text": [
      "['apple', 'cherry']\n"
     ]
    }
   ],
   "source": [
    "fruits = ['apple', 'banana', 'cherry']\n",
    "\n",
    "fruits.pop(1)\n",
    "print(fruits)"
   ]
  },
  {
   "cell_type": "code",
   "execution_count": 46,
   "id": "0daba8db",
   "metadata": {},
   "outputs": [
    {
     "name": "stdout",
     "output_type": "stream",
     "text": [
      "['apple', 'cherry', 'banana']\n"
     ]
    }
   ],
   "source": [
    "fruits = ['apple', 'banana', 'cherry', 'banana']\n",
    "\n",
    "fruits.remove(\"banana\")\n",
    "print(fruits)"
   ]
  },
  {
   "cell_type": "code",
   "execution_count": 47,
   "id": "4d0ad9f9",
   "metadata": {},
   "outputs": [
    {
     "name": "stdout",
     "output_type": "stream",
     "text": [
      "['cherry', 'banana', 'apple']\n"
     ]
    }
   ],
   "source": [
    "fruits = ['apple', 'banana', 'cherry']\n",
    "\n",
    "fruits.reverse()\n",
    "print(fruits)"
   ]
  },
  {
   "cell_type": "code",
   "execution_count": 48,
   "id": "4d676a50",
   "metadata": {},
   "outputs": [
    {
     "name": "stdout",
     "output_type": "stream",
     "text": [
      "['Volvo', 'Ford', 'BMW']\n"
     ]
    }
   ],
   "source": [
    "cars = ['Ford', 'BMW', 'Volvo']\n",
    "\n",
    "cars.sort(reverse=True)\n",
    "print(cars)\n",
    "\n"
   ]
  },
  {
   "cell_type": "code",
   "execution_count": 49,
   "id": "d8aec77f",
   "metadata": {},
   "outputs": [
    {
     "name": "stdout",
     "output_type": "stream",
     "text": [
      "[5, 9, 11]\n"
     ]
    }
   ],
   "source": [
    "A = [   [1, 4, 5, 12],\n",
    "        [-5, 8, 9, 0],\n",
    "        [-6, 7, 11, 19]\n",
    "    ]\n",
    "\n",
    "\n",
    "column = []\n",
    "\n",
    "for row in A:\n",
    "    column.append(row[2])\n",
    "\n",
    "print(column)"
   ]
  },
  {
   "cell_type": "code",
   "execution_count": 50,
   "id": "403c9f7d",
   "metadata": {},
   "outputs": [
    {
     "name": "stdout",
     "output_type": "stream",
     "text": [
      "['apple', 'banana', 'cherry']\n"
     ]
    }
   ],
   "source": [
    "thistuple = ([\"apple\", \"banana\", \"cherry\"])\n",
    "\n",
    "print(thistuple)"
   ]
  },
  {
   "cell_type": "code",
   "execution_count": 51,
   "id": "fb67e125",
   "metadata": {},
   "outputs": [
    {
     "name": "stdout",
     "output_type": "stream",
     "text": [
      "apple\n",
      "banana\n",
      "cherry\n"
     ]
    }
   ],
   "source": [
    " fruits = (\"apple\", \"banana\", \"cherry\")\n",
    " green, yellow, red = fruits\n",
    "\n",
    "\n",
    " print(green)\n",
    " print(yellow)\n",
    " print(red)"
   ]
  },
  {
   "cell_type": "code",
   "execution_count": 52,
   "id": "46741562",
   "metadata": {},
   "outputs": [
    {
     "ename": "SyntaxError",
     "evalue": "starred assignment target must be in a list or tuple (1049526485.py, line 3)",
     "output_type": "error",
     "traceback": [
      "\u001b[1;36m  Cell \u001b[1;32mIn[52], line 3\u001b[1;36m\u001b[0m\n\u001b[1;33m    *red = fruits\u001b[0m\n\u001b[1;37m    ^\u001b[0m\n\u001b[1;31mSyntaxError\u001b[0m\u001b[1;31m:\u001b[0m starred assignment target must be in a list or tuple\n"
     ]
    }
   ],
   "source": [
    "fruits = (\"apple\", \"banana\", \"cherry\", \"strawberry\", \"raspberry\")\n",
    "\n",
    "*red = fruits\n",
    "print(red)"
   ]
  },
  {
   "cell_type": "code",
   "execution_count": null,
   "id": "0ff70716",
   "metadata": {},
   "outputs": [
    {
     "name": "stdout",
     "output_type": "stream",
     "text": [
      "a is bigger\n"
     ]
    }
   ],
   "source": [
    "a=(8,8,9)\n",
    "b=(8,8)\n",
    "\n",
    "if a > b:\n",
    "    print(\"a is bigger\")\n",
    "\n",
    "else: \n",
    "    print(\"b is bigger\")\n"
   ]
  },
  {
   "cell_type": "code",
   "execution_count": null,
   "id": "fe97152f",
   "metadata": {},
   "outputs": [
    {
     "name": "stdout",
     "output_type": "stream",
     "text": [
      "{1, 2, 3, 5, 9}\n"
     ]
    }
   ],
   "source": [
    "s = {1,5,2,2,1,9,3}\n",
    "\n",
    "print(s)"
   ]
  },
  {
   "cell_type": "code",
   "execution_count": null,
   "id": "23037c15",
   "metadata": {},
   "outputs": [
    {
     "name": "stdout",
     "output_type": "stream",
     "text": [
      "{1, 2, 3, 4, 5, 6, 7}\n",
      "{4, 5}\n",
      "{6, 7}\n"
     ]
    }
   ],
   "source": [
    "a ={1, 2, 3, 4, 5}\n",
    "b ={4, 5, 6, 7}\n",
    "\n",
    "\n",
    "print(a | b)   #union\n",
    "print(a & b)   #intersection\n",
    "print(b - a)   #difference"
   ]
  },
  {
   "cell_type": "code",
   "execution_count": null,
   "id": "8f76a543",
   "metadata": {},
   "outputs": [
    {
     "name": "stdout",
     "output_type": "stream",
     "text": [
      "[1, 2, 3, 4, 5]\n"
     ]
    }
   ],
   "source": [
    "print(list(a))"
   ]
  },
  {
   "cell_type": "code",
   "execution_count": 53,
   "id": "b6a0260f",
   "metadata": {},
   "outputs": [],
   "source": [
    "a = {\n",
    "    \"brand\": \"Ford\",\n",
    "    \"model\": \"Mustang\",\n",
    "    \"year\": 1964,\n",
    "    \"colors\": [\"red\", \"white\", \"blue\"]\n",
    " }"
   ]
  },
  {
   "cell_type": "code",
   "execution_count": 54,
   "id": "82ae872e",
   "metadata": {},
   "outputs": [
    {
     "name": "stdout",
     "output_type": "stream",
     "text": [
      "dict_items([('brand', 'Ford'), ('model', 'Mustang'), ('year', 1964), ('colors', ['red', 'white', 'blue'])])\n"
     ]
    }
   ],
   "source": [
    "print(a.items())"
   ]
  },
  {
   "cell_type": "code",
   "execution_count": 55,
   "id": "eb024efb",
   "metadata": {},
   "outputs": [
    {
     "name": "stdout",
     "output_type": "stream",
     "text": [
      "dict_keys(['brand', 'model', 'year', 'colors'])\n"
     ]
    }
   ],
   "source": [
    "print(a.keys())"
   ]
  },
  {
   "cell_type": "code",
   "execution_count": 56,
   "id": "d8e530ee",
   "metadata": {},
   "outputs": [
    {
     "name": "stdout",
     "output_type": "stream",
     "text": [
      "dict_values(['Ford', 'Mustang', 1964, ['red', 'white', 'blue']])\n"
     ]
    }
   ],
   "source": [
    "\n",
    "print(a.values())"
   ]
  },
  {
   "cell_type": "code",
   "execution_count": 59,
   "id": "8864325b",
   "metadata": {},
   "outputs": [
    {
     "name": "stdout",
     "output_type": "stream",
     "text": [
      "brand Ford\n",
      "model Mustang\n",
      "year 1964\n",
      "colors ['red', 'white', 'blue']\n"
     ]
    }
   ],
   "source": [
    "for x, y in a.items():\n",
    "    print(x, y)"
   ]
  },
  {
   "cell_type": "code",
   "execution_count": 1,
   "id": "133e5a37",
   "metadata": {},
   "outputs": [],
   "source": [
    "text = \"The banana is common fruit of Bangladesh. It is grown in all the districts and all the seasons. Munsigonj and Narsingdi are famous for banana . banana has several varieties such as Sagore, Shabri, Chapa, Agniswar etc. It is very nutritious and  sweet.Papaw is a delicious fruit.It keeps the liver function active. The papaw is grown in all the districts and in all seasons. The coconut is a common fruit of Bangladesh. It grows in all seasons. Its water is a sweet drink and its kernel is a tasty food. The mango , the orange , the lichi , the black-berry , the jack fruits, the pineapple etc. grow in different seasons.\"\n",
    "\n",
    "fruits = [\"banana\", \"Papaw\", \"coconut\", \"black-berry\", \n",
    "\"pineapple\", \"lichi\", \"orange\", \"mango\"]"
   ]
  },
  {
   "cell_type": "code",
   "execution_count": 2,
   "id": "00ab78db",
   "metadata": {},
   "outputs": [
    {
     "data": {
      "text/plain": [
       "['The',\n",
       " 'banana',\n",
       " 'is',\n",
       " 'common',\n",
       " 'fruit',\n",
       " 'of',\n",
       " 'Bangladesh.',\n",
       " 'It',\n",
       " 'is',\n",
       " 'grown',\n",
       " 'in',\n",
       " 'all',\n",
       " 'the',\n",
       " 'districts',\n",
       " 'and',\n",
       " 'all',\n",
       " 'the',\n",
       " 'seasons.',\n",
       " 'Munsigonj',\n",
       " 'and',\n",
       " 'Narsingdi',\n",
       " 'are',\n",
       " 'famous',\n",
       " 'for',\n",
       " 'banana',\n",
       " '.',\n",
       " 'banana',\n",
       " 'has',\n",
       " 'several',\n",
       " 'varieties',\n",
       " 'such',\n",
       " 'as',\n",
       " 'Sagore,',\n",
       " 'Shabri,',\n",
       " 'Chapa,',\n",
       " 'Agniswar',\n",
       " 'etc.',\n",
       " 'It',\n",
       " 'is',\n",
       " 'very',\n",
       " 'nutritious',\n",
       " 'and',\n",
       " '',\n",
       " 'sweet.Papaw',\n",
       " 'is',\n",
       " 'a',\n",
       " 'delicious',\n",
       " 'fruit.It',\n",
       " 'keeps',\n",
       " 'the',\n",
       " 'liver',\n",
       " 'function',\n",
       " 'active.',\n",
       " 'The',\n",
       " 'papaw',\n",
       " 'is',\n",
       " 'grown',\n",
       " 'in',\n",
       " 'all',\n",
       " 'the',\n",
       " 'districts',\n",
       " 'and',\n",
       " 'in',\n",
       " 'all',\n",
       " 'seasons.',\n",
       " 'The',\n",
       " 'coconut',\n",
       " 'is',\n",
       " 'a',\n",
       " 'common',\n",
       " 'fruit',\n",
       " 'of',\n",
       " 'Bangladesh.',\n",
       " 'It',\n",
       " 'grows',\n",
       " 'in',\n",
       " 'all',\n",
       " 'seasons.',\n",
       " 'Its',\n",
       " 'water',\n",
       " 'is',\n",
       " 'a',\n",
       " 'sweet',\n",
       " 'drink',\n",
       " 'and',\n",
       " 'its',\n",
       " 'kernel',\n",
       " 'is',\n",
       " 'a',\n",
       " 'tasty',\n",
       " 'food.',\n",
       " 'The',\n",
       " 'mango',\n",
       " ',',\n",
       " 'the',\n",
       " 'orange',\n",
       " ',',\n",
       " 'the',\n",
       " 'lichi',\n",
       " ',',\n",
       " 'the',\n",
       " 'black-berry',\n",
       " ',',\n",
       " 'the',\n",
       " 'jack',\n",
       " 'fruits,',\n",
       " 'the',\n",
       " 'pineapple',\n",
       " 'etc.',\n",
       " 'grow',\n",
       " 'in',\n",
       " 'different',\n",
       " 'seasons.']"
      ]
     },
     "execution_count": 2,
     "metadata": {},
     "output_type": "execute_result"
    }
   ],
   "source": [
    "text = text.split(\" \")\n",
    "text"
   ]
  },
  {
   "cell_type": "code",
   "execution_count": 10,
   "id": "9def648c",
   "metadata": {},
   "outputs": [
    {
     "name": "stdout",
     "output_type": "stream",
     "text": [
      "9\n"
     ]
    }
   ],
   "source": [
    "fruitList = []\n",
    "\n",
    "for x in text:\n",
    "    if x in fruits:\n",
    "        fruitList.append(x)\n",
    "\n",
    "(print(len(fruitList)))"
   ]
  },
  {
   "cell_type": "code",
   "execution_count": 8,
   "id": "b2bb2ecb",
   "metadata": {},
   "outputs": [
    {
     "name": "stdout",
     "output_type": "stream",
     "text": [
      "{'lichi', 'mango', 'pineapple', 'banana', 'black-berry', 'coconut', 'orange'}\n"
     ]
    }
   ],
   "source": [
    "s = set(fruitList)\n",
    "print(s)"
   ]
  },
  {
   "cell_type": "code",
   "execution_count": 5,
   "id": "b1db3e3e",
   "metadata": {},
   "outputs": [
    {
     "data": {
      "text/plain": [
       "7"
      ]
     },
     "execution_count": 5,
     "metadata": {},
     "output_type": "execute_result"
    }
   ],
   "source": [
    "len(s)"
   ]
  },
  {
   "cell_type": "code",
   "execution_count": 18,
   "id": "8c76d49a",
   "metadata": {},
   "outputs": [
    {
     "name": "stdout",
     "output_type": "stream",
     "text": [
      "my name is apurba\n"
     ]
    }
   ],
   "source": [
    "def a():\n",
    "    print(\"my name is apurba\")\n",
    "\n",
    "a()"
   ]
  },
  {
   "cell_type": "code",
   "execution_count": 22,
   "id": "0afe16dc",
   "metadata": {},
   "outputs": [
    {
     "name": "stdout",
     "output_type": "stream",
     "text": [
      "Good morning! Emil\n",
      "Good morning! Tobias\n",
      "Good morning! Linus\n"
     ]
    }
   ],
   "source": [
    "def a(x):\n",
    "    print(f\"Good morning! {x}\")\n",
    "\n",
    "\n",
    "a(\"Emil\")\n",
    "a(\"Tobias\")\n",
    "a(\"Linus\")"
   ]
  },
  {
   "cell_type": "code",
   "execution_count": 25,
   "id": "7e30fcb6",
   "metadata": {},
   "outputs": [
    {
     "ename": "TypeError",
     "evalue": "my_function() missing 1 required keyword-only argument: 'lname'",
     "output_type": "error",
     "traceback": [
      "\u001b[1;31m---------------------------------------------------------------------------\u001b[0m",
      "\u001b[1;31mTypeError\u001b[0m                                 Traceback (most recent call last)",
      "Cell \u001b[1;32mIn[25], line 4\u001b[0m\n\u001b[0;32m      1\u001b[0m \u001b[38;5;28;01mdef\u001b[39;00m \u001b[38;5;21mmy_function\u001b[39m(\u001b[38;5;241m*\u001b[39mfname, lname):\n\u001b[0;32m      2\u001b[0m     \u001b[38;5;28mprint\u001b[39m(  lname)\n\u001b[1;32m----> 4\u001b[0m my_function(\u001b[38;5;124m\"\u001b[39m\u001b[38;5;124mRefsnes\u001b[39m\u001b[38;5;124m\"\u001b[39m)\n",
      "\u001b[1;31mTypeError\u001b[0m: my_function() missing 1 required keyword-only argument: 'lname'"
     ]
    }
   ],
   "source": [
    "def my_function(*fname, lname):\n",
    "    print(  lname)\n",
    "\n",
    "my_function(\"Refsnes\")"
   ]
  },
  {
   "cell_type": "code",
   "execution_count": null,
   "id": "c26a9d57",
   "metadata": {},
   "outputs": [
    {
     "ename": "IndentationError",
     "evalue": "expected an indented block after function definition on line 1 (3683211001.py, line 3)",
     "output_type": "error",
     "traceback": [
      "\u001b[1;36m  Cell \u001b[1;32mIn[28], line 3\u001b[1;36m\u001b[0m\n\u001b[1;33m    print(fun(1, 2, 3, 4,7953 ,34534))\u001b[0m\n\u001b[1;37m    ^\u001b[0m\n\u001b[1;31mIndentationError\u001b[0m\u001b[1;31m:\u001b[0m expected an indented block after function definition on line 1\n"
     ]
    }
   ],
   "source": [
    "def fun(*a):\n",
    "\n",
    "\n",
    "print(fun(1, 2, 3, 4,7953 ,34534)) \n",
    "print(fun(5, 10, 15))  "
   ]
  },
  {
   "cell_type": "code",
   "execution_count": 31,
   "id": "9f91744d",
   "metadata": {},
   "outputs": [
    {
     "name": "stdout",
     "output_type": "stream",
     "text": [
      "7\n",
      "3\n",
      "2.5\n",
      "10\n"
     ]
    }
   ],
   "source": [
    "def Add(a,b):\n",
    "    return a+b\n",
    "\n",
    "def Minus(a,b):\n",
    "    return a-b\n",
    "\n",
    "def Div(a,b):\n",
    "    return a/b\n",
    "\n",
    "def Mul(a,b):\n",
    "    return(a*b)\n",
    "\n",
    "sum = Add(5,2)\n",
    "print(sum)\n",
    "\n",
    "mins = Minus(5,2)\n",
    "print(mins)\n",
    "\n",
    "div = Div(5,2)\n",
    "print(div)\n",
    "\n",
    "mul = Mul(5,2)\n",
    "print(mul)"
   ]
  },
  {
   "cell_type": "code",
   "execution_count": 32,
   "id": "17e6ed29",
   "metadata": {},
   "outputs": [
    {
     "name": "stdout",
     "output_type": "stream",
     "text": [
      "The youngest child is Linus\n"
     ]
    }
   ],
   "source": [
    "def my_function(child3, child2, child1):\n",
    "    print(\"The youngest child is\", child3)\n",
    "\n",
    "\n",
    "my_function(child1 = \"Emil\", child2 = \"Tobias\", child3 = \"Linus\")"
   ]
  },
  {
   "cell_type": "code",
   "execution_count": 37,
   "id": "a52d93ec",
   "metadata": {},
   "outputs": [
    {
     "name": "stdout",
     "output_type": "stream",
     "text": [
      "I am from Sweden\n",
      "I am from India\n",
      "I am from <Country Not Found>\n",
      "I am from Brazil\n"
     ]
    }
   ],
   "source": [
    "def my_function(country = \"<Country Not Found>\"):\n",
    "    print(\"I am from\", country)\n",
    "\n",
    "\n",
    "my_function(\"Sweden\")\n",
    "my_function(\"India\")\n",
    "my_function()\n",
    "my_function(\"Brazil\")"
   ]
  },
  {
   "cell_type": "code",
   "execution_count": null,
   "id": "d6c8a0bc",
   "metadata": {},
   "outputs": [],
   "source": []
  },
  {
   "cell_type": "code",
   "execution_count": null,
   "id": "8309309f",
   "metadata": {},
   "outputs": [],
   "source": []
  }
 ],
 "metadata": {
  "kernelspec": {
   "display_name": "base",
   "language": "python",
   "name": "python3"
  },
  "language_info": {
   "codemirror_mode": {
    "name": "ipython",
    "version": 3
   },
   "file_extension": ".py",
   "mimetype": "text/x-python",
   "name": "python",
   "nbconvert_exporter": "python",
   "pygments_lexer": "ipython3",
   "version": "3.12.7"
  }
 },
 "nbformat": 4,
 "nbformat_minor": 5
}
