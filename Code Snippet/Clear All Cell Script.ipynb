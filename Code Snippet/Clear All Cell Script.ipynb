{
 "cells": [
  {
   "cell_type": "code",
   "execution_count": 2,
   "id": "2b25018f",
   "metadata": {},
   "outputs": [],
   "source": [
    "import nbformat\n",
    "import re\n",
    "\n",
    "def clear_code_keep_comments(cell_source):\n",
    "    #Clear all code while preserving comments\n",
    "    lines = cell_source.split('\\n')\n",
    "    output_lines = []\n",
    "    in_multiline_comment = False\n",
    "    \n",
    "    for line in lines:\n",
    "        # Handle multiline comments\n",
    "        if re.match(r'^\\s*(\\'\\'\\'|\\\"\\\"\\\")', line.strip()):\n",
    "            in_multiline_comment = not in_multiline_comment\n",
    "            output_lines.append(line)\n",
    "            continue\n",
    "            \n",
    "        if in_multiline_comment:\n",
    "            output_lines.append(line)\n",
    "            continue\n",
    "            \n",
    "        # Keep single-line comments\n",
    "        if line.strip().startswith('#'):\n",
    "            output_lines.append(line)\n",
    "            \n",
    "    return '\\n'.join(output_lines)\n",
    "\n",
    "# Load the notebook\n",
    "nb = nbformat.read(\"C:\\\\Users\\\\ACER\\\\Desktop\\\\WebScraping\\\\Handeling CAPTCHA\\\\preventing-captchas.ipynb\", as_version=4)\n",
    "\n",
    "# Process all code cells\n",
    "for cell in nb.cells:\n",
    "    if cell.cell_type == 'code':\n",
    "        cell.source = clear_code_keep_comments(cell.source)\n",
    "\n",
    "# Save the modified notebook\n",
    "nbformat.write(nb, \"C:\\\\Users\\\\ACER\\\\Desktop\\\\WebScraping\\\\Handeling CAPTCHA\\\\preventing-captchas.ipynb\")"
   ]
  },
  {
   "cell_type": "code",
   "execution_count": null,
   "id": "4e8d65cf",
   "metadata": {},
   "outputs": [],
   "source": []
  }
 ],
 "metadata": {
  "kernelspec": {
   "display_name": "Python 3",
   "language": "python",
   "name": "python3"
  },
  "language_info": {
   "codemirror_mode": {
    "name": "ipython",
    "version": 3
   },
   "file_extension": ".py",
   "mimetype": "text/x-python",
   "name": "python",
   "nbconvert_exporter": "python",
   "pygments_lexer": "ipython3",
   "version": "3.11.5"
  }
 },
 "nbformat": 4,
 "nbformat_minor": 5
}
