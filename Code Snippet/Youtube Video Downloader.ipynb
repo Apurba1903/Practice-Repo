{
 "cells": [
  {
   "cell_type": "code",
   "execution_count": null,
   "id": "548f38b1",
   "metadata": {},
   "outputs": [],
   "source": [
    "pip install yt-dlp"
   ]
  },
  {
   "cell_type": "code",
   "execution_count": null,
   "id": "6ba75a07",
   "metadata": {},
   "outputs": [],
   "source": [
    "yt-dlp -f \"bestvideo+bestaudio\" \"YOUTUBE_URL\""
   ]
  },
  {
   "cell_type": "code",
   "execution_count": null,
   "id": "57755b2a",
   "metadata": {},
   "outputs": [],
   "source": [
    "yt-dlp -f \"bestvideo[ext=mp4]+bestaudio[ext=m4a]\" --merge-output-format mp4 \"YOUTUBE_URL\""
   ]
  }
 ],
 "metadata": {
  "kernelspec": {
   "display_name": "Python 3",
   "language": "python",
   "name": "python3"
  },
  "language_info": {
   "name": "python",
   "version": "3.11.9"
  }
 },
 "nbformat": 4,
 "nbformat_minor": 5
}
